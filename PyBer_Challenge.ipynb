{
 "cells": [
  {
   "cell_type": "markdown",
   "metadata": {},
   "source": [
    "# Pyber Challenge"
   ]
  },
  {
   "cell_type": "markdown",
   "metadata": {},
   "source": [
    "### 4.3 Loading and Reading CSV files"
   ]
  },
  {
   "cell_type": "code",
<<<<<<< HEAD
   "execution_count": 3,
=======
   "execution_count": 1,
>>>>>>> 3faded07f982668f10f3664c69c7dc1bf851e3e3
   "metadata": {},
   "outputs": [],
   "source": [
    "# Add Matplotlib inline magic command\n",
    "%matplotlib inline\n",
    "# Dependencies and Setup\n",
    "import matplotlib.pyplot as plt\n",
    "import pandas as pd\n",
    "\n",
    "# File to Load (Remember to change these)\n",
    "city_data_to_load = \"Resources/city_data.csv\"\n",
    "ride_data_to_load = \"Resources/ride_data.csv\"\n",
    "\n",
    "# Read the City and Ride Data\n",
    "city_data_df = pd.read_csv(city_data_to_load)\n",
    "ride_data_df = pd.read_csv(ride_data_to_load)"
   ]
  },
  {
   "cell_type": "markdown",
   "metadata": {},
   "source": [
    "### Merge the DataFrames"
   ]
  },
  {
   "cell_type": "code",
<<<<<<< HEAD
   "execution_count": 4,
=======
   "execution_count": 2,
>>>>>>> 3faded07f982668f10f3664c69c7dc1bf851e3e3
   "metadata": {
    "scrolled": true
   },
   "outputs": [
    {
     "data": {
      "text/html": [
       "<div>\n",
       "<style scoped>\n",
       "    .dataframe tbody tr th:only-of-type {\n",
       "        vertical-align: middle;\n",
       "    }\n",
       "\n",
       "    .dataframe tbody tr th {\n",
       "        vertical-align: top;\n",
       "    }\n",
       "\n",
       "    .dataframe thead th {\n",
       "        text-align: right;\n",
       "    }\n",
       "</style>\n",
       "<table border=\"1\" class=\"dataframe\">\n",
       "  <thead>\n",
       "    <tr style=\"text-align: right;\">\n",
       "      <th></th>\n",
       "      <th>city</th>\n",
       "      <th>date</th>\n",
       "      <th>fare</th>\n",
       "      <th>ride_id</th>\n",
       "      <th>driver_count</th>\n",
       "      <th>type</th>\n",
       "    </tr>\n",
       "  </thead>\n",
       "  <tbody>\n",
       "    <tr>\n",
       "      <th>0</th>\n",
       "      <td>Lake Jonathanshire</td>\n",
       "      <td>2019-01-14 10:14:22</td>\n",
       "      <td>13.83</td>\n",
       "      <td>5739410935873</td>\n",
       "      <td>5</td>\n",
       "      <td>Urban</td>\n",
       "    </tr>\n",
       "    <tr>\n",
       "      <th>1</th>\n",
       "      <td>South Michelleport</td>\n",
       "      <td>2019-03-04 18:24:09</td>\n",
       "      <td>30.24</td>\n",
       "      <td>2343912425577</td>\n",
       "      <td>72</td>\n",
       "      <td>Urban</td>\n",
       "    </tr>\n",
       "    <tr>\n",
       "      <th>2</th>\n",
       "      <td>Port Samanthamouth</td>\n",
       "      <td>2019-02-24 04:29:00</td>\n",
       "      <td>33.44</td>\n",
       "      <td>2005065760003</td>\n",
       "      <td>57</td>\n",
       "      <td>Urban</td>\n",
       "    </tr>\n",
       "    <tr>\n",
       "      <th>3</th>\n",
       "      <td>Rodneyfort</td>\n",
       "      <td>2019-02-10 23:22:03</td>\n",
       "      <td>23.44</td>\n",
       "      <td>5149245426178</td>\n",
       "      <td>34</td>\n",
       "      <td>Urban</td>\n",
       "    </tr>\n",
       "    <tr>\n",
       "      <th>4</th>\n",
       "      <td>South Jack</td>\n",
       "      <td>2019-03-06 04:28:35</td>\n",
       "      <td>34.58</td>\n",
       "      <td>3908451377344</td>\n",
       "      <td>46</td>\n",
       "      <td>Urban</td>\n",
       "    </tr>\n",
       "  </tbody>\n",
       "</table>\n",
       "</div>"
      ],
      "text/plain": [
       "                 city                 date   fare        ride_id  \\\n",
       "0  Lake Jonathanshire  2019-01-14 10:14:22  13.83  5739410935873   \n",
       "1  South Michelleport  2019-03-04 18:24:09  30.24  2343912425577   \n",
       "2  Port Samanthamouth  2019-02-24 04:29:00  33.44  2005065760003   \n",
       "3          Rodneyfort  2019-02-10 23:22:03  23.44  5149245426178   \n",
       "4          South Jack  2019-03-06 04:28:35  34.58  3908451377344   \n",
       "\n",
       "   driver_count   type  \n",
       "0             5  Urban  \n",
       "1            72  Urban  \n",
       "2            57  Urban  \n",
       "3            34  Urban  \n",
       "4            46  Urban  "
      ]
     },
<<<<<<< HEAD
     "execution_count": 4,
=======
     "execution_count": 2,
>>>>>>> 3faded07f982668f10f3664c69c7dc1bf851e3e3
     "metadata": {},
     "output_type": "execute_result"
    }
   ],
   "source": [
    "# Combine the data into a single dataset\n",
    "pyber_data_df = pd.merge(ride_data_df, city_data_df, how=\"left\", on=[\"city\", \"city\"])\n",
    "\n",
    "# Display the data table for preview\n",
    "pyber_data_df.head()"
   ]
  },
  {
   "cell_type": "markdown",
   "metadata": {},
   "source": [
    "## Deliverable 1: Get a Summary DataFrame "
   ]
  },
  {
   "cell_type": "code",
<<<<<<< HEAD
   "execution_count": 5,
=======
   "execution_count": 3,
>>>>>>> 3faded07f982668f10f3664c69c7dc1bf851e3e3
   "metadata": {},
   "outputs": [
    {
     "data": {
      "text/plain": [
       "type\n",
       "Rural        125\n",
       "Suburban     625\n",
       "Urban       1625\n",
       "Name: ride_id, dtype: int64"
      ]
     },
<<<<<<< HEAD
     "execution_count": 5,
=======
     "execution_count": 3,
>>>>>>> 3faded07f982668f10f3664c69c7dc1bf851e3e3
     "metadata": {},
     "output_type": "execute_result"
    }
   ],
   "source": [
    "#  1. Get the total rides for each city type\n",
    "total_rides = pyber_data_df.groupby([\"type\"]).count()[\"ride_id\"]\n",
    "total_rides"
   ]
  },
  {
   "cell_type": "code",
<<<<<<< HEAD
   "execution_count": 6,
=======
   "execution_count": 4,
>>>>>>> 3faded07f982668f10f3664c69c7dc1bf851e3e3
   "metadata": {
    "scrolled": true
   },
   "outputs": [
    {
     "data": {
      "text/plain": [
       "type\n",
       "Rural         78\n",
       "Suburban     490\n",
       "Urban       2405\n",
       "Name: driver_count, dtype: int64"
      ]
     },
<<<<<<< HEAD
     "execution_count": 6,
=======
     "execution_count": 4,
>>>>>>> 3faded07f982668f10f3664c69c7dc1bf851e3e3
     "metadata": {},
     "output_type": "execute_result"
    }
   ],
   "source": [
    "# 2. Get the total drivers for each city type\n",
    "total_drivers = city_data_df.groupby([\"type\"]).sum()[\"driver_count\"]\n",
    "total_drivers"
   ]
  },
  {
   "cell_type": "code",
<<<<<<< HEAD
   "execution_count": 7,
=======
   "execution_count": 5,
>>>>>>> 3faded07f982668f10f3664c69c7dc1bf851e3e3
   "metadata": {},
   "outputs": [
    {
     "data": {
      "text/plain": [
       "type\n",
       "Rural        4327.93\n",
       "Suburban    19356.33\n",
       "Urban       39854.38\n",
       "Name: fare, dtype: float64"
      ]
     },
<<<<<<< HEAD
     "execution_count": 7,
=======
     "execution_count": 5,
>>>>>>> 3faded07f982668f10f3664c69c7dc1bf851e3e3
     "metadata": {},
     "output_type": "execute_result"
    }
   ],
   "source": [
    "#  3. Get the total amount of fares for each city type\n",
    "total_fares = pyber_data_df.groupby([\"type\"]).sum()[\"fare\"]\n",
    "total_fares.head()"
   ]
  },
  {
   "cell_type": "code",
<<<<<<< HEAD
   "execution_count": 8,
=======
   "execution_count": 6,
>>>>>>> 3faded07f982668f10f3664c69c7dc1bf851e3e3
   "metadata": {},
   "outputs": [
    {
     "data": {
      "text/plain": [
       "type\n",
       "Rural       34.623440\n",
       "Suburban    30.970128\n",
       "Urban       24.525772\n",
       "dtype: float64"
      ]
     },
<<<<<<< HEAD
     "execution_count": 8,
=======
     "execution_count": 6,
>>>>>>> 3faded07f982668f10f3664c69c7dc1bf851e3e3
     "metadata": {},
     "output_type": "execute_result"
    }
   ],
   "source": [
    "#  4. Get the average fare per ride for each city type. \n",
    "average_fare_per_ride = (total_fares / total_rides).groupby([\"type\"]).mean()\n",
    "average_fare_per_ride"
   ]
  },
  {
   "cell_type": "code",
<<<<<<< HEAD
   "execution_count": 9,
=======
   "execution_count": 7,
>>>>>>> 3faded07f982668f10f3664c69c7dc1bf851e3e3
   "metadata": {},
   "outputs": [
    {
     "data": {
      "text/plain": [
       "type\n",
       "Rural       55.486282\n",
       "Suburban    39.502714\n",
       "Urban       16.571468\n",
       "dtype: float64"
      ]
     },
<<<<<<< HEAD
     "execution_count": 9,
=======
     "execution_count": 7,
>>>>>>> 3faded07f982668f10f3664c69c7dc1bf851e3e3
     "metadata": {},
     "output_type": "execute_result"
    }
   ],
   "source": [
    "# 5. Get the average fare per driver for each city type. \n",
    "average_fare_per_driver = (total_fares / total_drivers).groupby([\"type\"]).mean()\n",
    "average_fare_per_driver"
   ]
  },
  {
   "cell_type": "code",
<<<<<<< HEAD
   "execution_count": 10,
=======
   "execution_count": 8,
>>>>>>> 3faded07f982668f10f3664c69c7dc1bf851e3e3
   "metadata": {},
   "outputs": [
    {
     "data": {
      "text/html": [
       "<div>\n",
       "<style scoped>\n",
       "    .dataframe tbody tr th:only-of-type {\n",
       "        vertical-align: middle;\n",
       "    }\n",
       "\n",
       "    .dataframe tbody tr th {\n",
       "        vertical-align: top;\n",
       "    }\n",
       "\n",
       "    .dataframe thead th {\n",
       "        text-align: right;\n",
       "    }\n",
       "</style>\n",
       "<table border=\"1\" class=\"dataframe\">\n",
       "  <thead>\n",
       "    <tr style=\"text-align: right;\">\n",
       "      <th></th>\n",
       "      <th>Total Rides</th>\n",
       "      <th>Total Drivers</th>\n",
       "      <th>Total Fares</th>\n",
       "      <th>Average Fare per Ride</th>\n",
       "      <th>Average Fare per Driver</th>\n",
       "    </tr>\n",
       "    <tr>\n",
       "      <th>type</th>\n",
       "      <th></th>\n",
       "      <th></th>\n",
       "      <th></th>\n",
       "      <th></th>\n",
       "      <th></th>\n",
       "    </tr>\n",
       "  </thead>\n",
       "  <tbody>\n",
       "    <tr>\n",
       "      <th>Rural</th>\n",
       "      <td>125</td>\n",
       "      <td>78</td>\n",
       "      <td>4327.93</td>\n",
       "      <td>34.623440</td>\n",
       "      <td>55.486282</td>\n",
       "    </tr>\n",
       "    <tr>\n",
       "      <th>Suburban</th>\n",
       "      <td>625</td>\n",
       "      <td>490</td>\n",
       "      <td>19356.33</td>\n",
       "      <td>30.970128</td>\n",
       "      <td>39.502714</td>\n",
       "    </tr>\n",
       "    <tr>\n",
       "      <th>Urban</th>\n",
       "      <td>1625</td>\n",
       "      <td>2405</td>\n",
       "      <td>39854.38</td>\n",
       "      <td>24.525772</td>\n",
       "      <td>16.571468</td>\n",
       "    </tr>\n",
       "  </tbody>\n",
       "</table>\n",
       "</div>"
      ],
      "text/plain": [
       "          Total Rides  Total Drivers  Total Fares  Average Fare per Ride  \\\n",
       "type                                                                       \n",
       "Rural             125             78      4327.93              34.623440   \n",
       "Suburban          625            490     19356.33              30.970128   \n",
       "Urban            1625           2405     39854.38              24.525772   \n",
       "\n",
       "          Average Fare per Driver  \n",
       "type                               \n",
       "Rural                   55.486282  \n",
       "Suburban                39.502714  \n",
       "Urban                   16.571468  "
      ]
     },
<<<<<<< HEAD
     "execution_count": 10,
=======
     "execution_count": 8,
>>>>>>> 3faded07f982668f10f3664c69c7dc1bf851e3e3
     "metadata": {},
     "output_type": "execute_result"
    }
   ],
   "source": [
    "#  6. Create a PyBer summary DataFrame. \n",
    "pyber_summary_df = pd.DataFrame()\n",
    "pyber_summary_df[\"Total Rides\"] = total_rides\n",
    "pyber_summary_df[\"Total Drivers\"] = total_drivers\n",
    "pyber_summary_df[\"Total Fares\"] = total_fares\n",
    "pyber_summary_df[\"Average Fare per Ride\"] = average_fare_per_ride\n",
    "pyber_summary_df[\"Average Fare per Driver\"] = average_fare_per_driver\n",
    "pyber_summary_df"
   ]
  },
  {
   "cell_type": "code",
<<<<<<< HEAD
   "execution_count": 11,
=======
   "execution_count": 9,
>>>>>>> 3faded07f982668f10f3664c69c7dc1bf851e3e3
   "metadata": {},
   "outputs": [
    {
     "data": {
      "text/html": [
       "<div>\n",
       "<style scoped>\n",
       "    .dataframe tbody tr th:only-of-type {\n",
       "        vertical-align: middle;\n",
       "    }\n",
       "\n",
       "    .dataframe tbody tr th {\n",
       "        vertical-align: top;\n",
       "    }\n",
       "\n",
       "    .dataframe thead th {\n",
       "        text-align: right;\n",
       "    }\n",
       "</style>\n",
       "<table border=\"1\" class=\"dataframe\">\n",
       "  <thead>\n",
       "    <tr style=\"text-align: right;\">\n",
       "      <th></th>\n",
       "      <th>Total Rides</th>\n",
       "      <th>Total Drivers</th>\n",
       "      <th>Total Fares</th>\n",
       "      <th>Average Fare per Ride</th>\n",
       "      <th>Average Fare per Driver</th>\n",
       "    </tr>\n",
       "  </thead>\n",
       "  <tbody>\n",
       "    <tr>\n",
       "      <th>Rural</th>\n",
       "      <td>125</td>\n",
       "      <td>78</td>\n",
       "      <td>4327.93</td>\n",
       "      <td>34.623440</td>\n",
       "      <td>55.486282</td>\n",
       "    </tr>\n",
       "    <tr>\n",
       "      <th>Suburban</th>\n",
       "      <td>625</td>\n",
       "      <td>490</td>\n",
       "      <td>19356.33</td>\n",
       "      <td>30.970128</td>\n",
       "      <td>39.502714</td>\n",
       "    </tr>\n",
       "    <tr>\n",
       "      <th>Urban</th>\n",
       "      <td>1625</td>\n",
       "      <td>2405</td>\n",
       "      <td>39854.38</td>\n",
       "      <td>24.525772</td>\n",
       "      <td>16.571468</td>\n",
       "    </tr>\n",
       "  </tbody>\n",
       "</table>\n",
       "</div>"
      ],
      "text/plain": [
       "          Total Rides  Total Drivers  Total Fares  Average Fare per Ride  \\\n",
       "Rural             125             78      4327.93              34.623440   \n",
       "Suburban          625            490     19356.33              30.970128   \n",
       "Urban            1625           2405     39854.38              24.525772   \n",
       "\n",
       "          Average Fare per Driver  \n",
       "Rural                   55.486282  \n",
       "Suburban                39.502714  \n",
       "Urban                   16.571468  "
      ]
     },
<<<<<<< HEAD
     "execution_count": 11,
=======
     "execution_count": 9,
>>>>>>> 3faded07f982668f10f3664c69c7dc1bf851e3e3
     "metadata": {},
     "output_type": "execute_result"
    }
   ],
   "source": [
    "#  7. Cleaning up the DataFrame. Delete the index name\n",
    "pyber_summary_df.index.name = None\n",
    "pyber_summary_df"
   ]
  },
  {
   "cell_type": "code",
<<<<<<< HEAD
   "execution_count": 12,
=======
   "execution_count": 10,
>>>>>>> 3faded07f982668f10f3664c69c7dc1bf851e3e3
   "metadata": {},
   "outputs": [
    {
     "data": {
      "text/html": [
       "<div>\n",
       "<style scoped>\n",
       "    .dataframe tbody tr th:only-of-type {\n",
       "        vertical-align: middle;\n",
       "    }\n",
       "\n",
       "    .dataframe tbody tr th {\n",
       "        vertical-align: top;\n",
       "    }\n",
       "\n",
       "    .dataframe thead th {\n",
       "        text-align: right;\n",
       "    }\n",
       "</style>\n",
       "<table border=\"1\" class=\"dataframe\">\n",
       "  <thead>\n",
       "    <tr style=\"text-align: right;\">\n",
       "      <th></th>\n",
       "      <th>Total Rides</th>\n",
       "      <th>Total Drivers</th>\n",
       "      <th>Total Fares</th>\n",
       "      <th>Average Fare per Ride</th>\n",
       "      <th>Average Fare per Driver</th>\n",
       "    </tr>\n",
       "  </thead>\n",
       "  <tbody>\n",
       "    <tr>\n",
       "      <th>Rural</th>\n",
       "      <td>125</td>\n",
       "      <td>78</td>\n",
       "      <td>$4,327.93</td>\n",
       "      <td>$34.62</td>\n",
       "      <td>$55.49</td>\n",
       "    </tr>\n",
       "    <tr>\n",
       "      <th>Suburban</th>\n",
       "      <td>625</td>\n",
       "      <td>490</td>\n",
       "      <td>$19,356.33</td>\n",
       "      <td>$30.97</td>\n",
       "      <td>$39.50</td>\n",
       "    </tr>\n",
       "    <tr>\n",
       "      <th>Urban</th>\n",
       "      <td>1,625</td>\n",
       "      <td>2,405</td>\n",
       "      <td>$39,854.38</td>\n",
       "      <td>$24.53</td>\n",
       "      <td>$16.57</td>\n",
       "    </tr>\n",
       "  </tbody>\n",
       "</table>\n",
       "</div>"
      ],
      "text/plain": [
       "         Total Rides Total Drivers Total Fares Average Fare per Ride  \\\n",
       "Rural            125            78   $4,327.93                $34.62   \n",
       "Suburban         625           490  $19,356.33                $30.97   \n",
       "Urban          1,625         2,405  $39,854.38                $24.53   \n",
       "\n",
       "         Average Fare per Driver  \n",
       "Rural                     $55.49  \n",
       "Suburban                  $39.50  \n",
       "Urban                     $16.57  "
      ]
     },
<<<<<<< HEAD
     "execution_count": 12,
=======
     "execution_count": 10,
>>>>>>> 3faded07f982668f10f3664c69c7dc1bf851e3e3
     "metadata": {},
     "output_type": "execute_result"
    }
   ],
   "source": [
    "#  8. Format the columns.\n",
    "pyber_summary_df[\"Total Rides\"] = pyber_summary_df[\"Total Rides\"].map(\"{:,}\".format)\n",
    "pyber_summary_df[\"Total Drivers\"] = pyber_summary_df[\"Total Drivers\"].map(\"{:,}\".format)\n",
    "pyber_summary_df[\"Total Fares\"] = pyber_summary_df[\"Total Fares\"].map(\"${:,.2f}\".format)\n",
    "pyber_summary_df[\"Average Fare per Ride\"] = pyber_summary_df[\"Average Fare per Ride\"].map(\"${:,.2f}\".format)\n",
    "pyber_summary_df[\"Average Fare per Driver\"] = pyber_summary_df[\"Average Fare per Driver\"].map(\"${:,.2f}\".format)\n",
    "pyber_summary_df"
   ]
  },
  {
   "cell_type": "markdown",
   "metadata": {},
   "source": [
    "## Deliverable 2.  Create a multiple line plot that shows the total weekly of the fares for each type of city."
   ]
  },
  {
   "cell_type": "code",
<<<<<<< HEAD
   "execution_count": 13,
=======
   "execution_count": 11,
>>>>>>> 3faded07f982668f10f3664c69c7dc1bf851e3e3
   "metadata": {},
   "outputs": [
    {
     "data": {
      "text/html": [
       "<div>\n",
       "<style scoped>\n",
       "    .dataframe tbody tr th:only-of-type {\n",
       "        vertical-align: middle;\n",
       "    }\n",
       "\n",
       "    .dataframe tbody tr th {\n",
       "        vertical-align: top;\n",
       "    }\n",
       "\n",
       "    .dataframe thead th {\n",
       "        text-align: right;\n",
       "    }\n",
       "</style>\n",
       "<table border=\"1\" class=\"dataframe\">\n",
       "  <thead>\n",
       "    <tr style=\"text-align: right;\">\n",
       "      <th></th>\n",
       "      <th></th>\n",
       "      <th>fare</th>\n",
       "    </tr>\n",
       "    <tr>\n",
       "      <th>type</th>\n",
       "      <th>date</th>\n",
       "      <th></th>\n",
       "    </tr>\n",
       "  </thead>\n",
       "  <tbody>\n",
       "    <tr>\n",
       "      <th rowspan=\"5\" valign=\"top\">Rural</th>\n",
       "      <th>2019-01-01 09:45:36</th>\n",
       "      <td>43.69</td>\n",
       "    </tr>\n",
       "    <tr>\n",
       "      <th>2019-01-02 11:18:32</th>\n",
       "      <td>52.12</td>\n",
       "    </tr>\n",
       "    <tr>\n",
       "      <th>2019-01-03 19:51:01</th>\n",
       "      <td>19.90</td>\n",
       "    </tr>\n",
       "    <tr>\n",
       "      <th>2019-01-04 03:31:26</th>\n",
       "      <td>24.88</td>\n",
       "    </tr>\n",
       "    <tr>\n",
       "      <th>2019-01-06 07:38:40</th>\n",
       "      <td>47.33</td>\n",
       "    </tr>\n",
       "    <tr>\n",
       "      <th>...</th>\n",
       "      <th>...</th>\n",
       "      <td>...</td>\n",
       "    </tr>\n",
       "    <tr>\n",
       "      <th rowspan=\"5\" valign=\"top\">Urban</th>\n",
       "      <th>2019-05-08 04:20:00</th>\n",
       "      <td>21.99</td>\n",
       "    </tr>\n",
       "    <tr>\n",
       "      <th>2019-05-08 04:39:49</th>\n",
       "      <td>18.45</td>\n",
       "    </tr>\n",
       "    <tr>\n",
       "      <th>2019-05-08 07:29:01</th>\n",
       "      <td>18.55</td>\n",
       "    </tr>\n",
       "    <tr>\n",
       "      <th>2019-05-08 11:38:35</th>\n",
       "      <td>19.77</td>\n",
       "    </tr>\n",
       "    <tr>\n",
       "      <th>2019-05-08 13:10:18</th>\n",
       "      <td>18.04</td>\n",
       "    </tr>\n",
       "  </tbody>\n",
       "</table>\n",
       "<p>2375 rows × 1 columns</p>\n",
       "</div>"
      ],
      "text/plain": [
       "                            fare\n",
       "type  date                      \n",
       "Rural 2019-01-01 09:45:36  43.69\n",
       "      2019-01-02 11:18:32  52.12\n",
       "      2019-01-03 19:51:01  19.90\n",
       "      2019-01-04 03:31:26  24.88\n",
       "      2019-01-06 07:38:40  47.33\n",
       "...                          ...\n",
       "Urban 2019-05-08 04:20:00  21.99\n",
       "      2019-05-08 04:39:49  18.45\n",
       "      2019-05-08 07:29:01  18.55\n",
       "      2019-05-08 11:38:35  19.77\n",
       "      2019-05-08 13:10:18  18.04\n",
       "\n",
       "[2375 rows x 1 columns]"
      ]
     },
<<<<<<< HEAD
     "execution_count": 13,
=======
     "execution_count": 11,
>>>>>>> 3faded07f982668f10f3664c69c7dc1bf851e3e3
     "metadata": {},
     "output_type": "execute_result"
    }
   ],
   "source": [
    "# 9. Using groupby() on the pyber_data_df to create a new DataFrame showing the sum of the fares \n",
    "#  for each date where the indices are the city type and date.\n",
    "total_fares_type_date_df = pd.DataFrame(pyber_data_df.groupby([\"type\", \"date\"]).sum()[\"fare\"])\n",
    "total_fares_type_date_df"
   ]
  },
  {
   "cell_type": "code",
<<<<<<< HEAD
   "execution_count": 14,
=======
   "execution_count": 12,
>>>>>>> 3faded07f982668f10f3664c69c7dc1bf851e3e3
   "metadata": {},
   "outputs": [
    {
     "data": {
      "text/html": [
       "<div>\n",
       "<style scoped>\n",
       "    .dataframe tbody tr th:only-of-type {\n",
       "        vertical-align: middle;\n",
       "    }\n",
       "\n",
       "    .dataframe tbody tr th {\n",
       "        vertical-align: top;\n",
       "    }\n",
       "\n",
       "    .dataframe thead th {\n",
       "        text-align: right;\n",
       "    }\n",
       "</style>\n",
       "<table border=\"1\" class=\"dataframe\">\n",
       "  <thead>\n",
       "    <tr style=\"text-align: right;\">\n",
       "      <th></th>\n",
       "      <th>type</th>\n",
       "      <th>date</th>\n",
       "      <th>fare</th>\n",
       "    </tr>\n",
       "  </thead>\n",
       "  <tbody>\n",
       "    <tr>\n",
       "      <th>0</th>\n",
       "      <td>Rural</td>\n",
       "      <td>2019-01-01 09:45:36</td>\n",
       "      <td>43.69</td>\n",
       "    </tr>\n",
       "    <tr>\n",
       "      <th>1</th>\n",
       "      <td>Rural</td>\n",
       "      <td>2019-01-02 11:18:32</td>\n",
       "      <td>52.12</td>\n",
       "    </tr>\n",
       "    <tr>\n",
       "      <th>2</th>\n",
       "      <td>Rural</td>\n",
       "      <td>2019-01-03 19:51:01</td>\n",
       "      <td>19.90</td>\n",
       "    </tr>\n",
       "    <tr>\n",
       "      <th>3</th>\n",
       "      <td>Rural</td>\n",
       "      <td>2019-01-04 03:31:26</td>\n",
       "      <td>24.88</td>\n",
       "    </tr>\n",
       "    <tr>\n",
       "      <th>4</th>\n",
       "      <td>Rural</td>\n",
       "      <td>2019-01-06 07:38:40</td>\n",
       "      <td>47.33</td>\n",
       "    </tr>\n",
       "    <tr>\n",
       "      <th>...</th>\n",
       "      <td>...</td>\n",
       "      <td>...</td>\n",
       "      <td>...</td>\n",
       "    </tr>\n",
       "    <tr>\n",
       "      <th>2370</th>\n",
       "      <td>Urban</td>\n",
       "      <td>2019-05-08 04:20:00</td>\n",
       "      <td>21.99</td>\n",
       "    </tr>\n",
       "    <tr>\n",
       "      <th>2371</th>\n",
       "      <td>Urban</td>\n",
       "      <td>2019-05-08 04:39:49</td>\n",
       "      <td>18.45</td>\n",
       "    </tr>\n",
       "    <tr>\n",
       "      <th>2372</th>\n",
       "      <td>Urban</td>\n",
       "      <td>2019-05-08 07:29:01</td>\n",
       "      <td>18.55</td>\n",
       "    </tr>\n",
       "    <tr>\n",
       "      <th>2373</th>\n",
       "      <td>Urban</td>\n",
       "      <td>2019-05-08 11:38:35</td>\n",
       "      <td>19.77</td>\n",
       "    </tr>\n",
       "    <tr>\n",
       "      <th>2374</th>\n",
       "      <td>Urban</td>\n",
       "      <td>2019-05-08 13:10:18</td>\n",
       "      <td>18.04</td>\n",
       "    </tr>\n",
       "  </tbody>\n",
       "</table>\n",
       "<p>2375 rows × 3 columns</p>\n",
       "</div>"
      ],
      "text/plain": [
       "       type                 date   fare\n",
       "0     Rural  2019-01-01 09:45:36  43.69\n",
       "1     Rural  2019-01-02 11:18:32  52.12\n",
       "2     Rural  2019-01-03 19:51:01  19.90\n",
       "3     Rural  2019-01-04 03:31:26  24.88\n",
       "4     Rural  2019-01-06 07:38:40  47.33\n",
       "...     ...                  ...    ...\n",
       "2370  Urban  2019-05-08 04:20:00  21.99\n",
       "2371  Urban  2019-05-08 04:39:49  18.45\n",
       "2372  Urban  2019-05-08 07:29:01  18.55\n",
       "2373  Urban  2019-05-08 11:38:35  19.77\n",
       "2374  Urban  2019-05-08 13:10:18  18.04\n",
       "\n",
       "[2375 rows x 3 columns]"
      ]
     },
<<<<<<< HEAD
     "execution_count": 14,
=======
     "execution_count": 12,
>>>>>>> 3faded07f982668f10f3664c69c7dc1bf851e3e3
     "metadata": {},
     "output_type": "execute_result"
    }
   ],
   "source": [
    "# 10. Reset the index on the DataFrame you created in #1. This is needed to use the 'pivot()' function.\n",
    "# df = df.reset_index()\n",
    "total_fares_type_date_df = total_fares_type_date_df.reset_index()\n",
    "total_fares_type_date_df"
   ]
  },
  {
   "cell_type": "code",
<<<<<<< HEAD
   "execution_count": 15,
=======
   "execution_count": 13,
>>>>>>> 3faded07f982668f10f3664c69c7dc1bf851e3e3
   "metadata": {},
   "outputs": [
    {
     "data": {
      "text/html": [
       "<div>\n",
       "<style scoped>\n",
       "    .dataframe tbody tr th:only-of-type {\n",
       "        vertical-align: middle;\n",
       "    }\n",
       "\n",
       "    .dataframe tbody tr th {\n",
       "        vertical-align: top;\n",
       "    }\n",
       "\n",
       "    .dataframe thead th {\n",
       "        text-align: right;\n",
       "    }\n",
       "</style>\n",
       "<table border=\"1\" class=\"dataframe\">\n",
       "  <thead>\n",
       "    <tr style=\"text-align: right;\">\n",
       "      <th>type</th>\n",
       "      <th>Rural</th>\n",
       "      <th>Suburban</th>\n",
       "      <th>Urban</th>\n",
       "    </tr>\n",
       "    <tr>\n",
       "      <th>date</th>\n",
       "      <th></th>\n",
       "      <th></th>\n",
       "      <th></th>\n",
       "    </tr>\n",
       "  </thead>\n",
       "  <tbody>\n",
       "    <tr>\n",
       "      <th>2019-01-01 00:08:16</th>\n",
       "      <td>NaN</td>\n",
       "      <td>NaN</td>\n",
       "      <td>37.91</td>\n",
       "    </tr>\n",
       "    <tr>\n",
       "      <th>2019-01-01 00:46:46</th>\n",
       "      <td>NaN</td>\n",
       "      <td>47.74</td>\n",
       "      <td>NaN</td>\n",
       "    </tr>\n",
       "    <tr>\n",
       "      <th>2019-01-01 02:07:24</th>\n",
       "      <td>NaN</td>\n",
       "      <td>24.07</td>\n",
       "      <td>NaN</td>\n",
       "    </tr>\n",
       "    <tr>\n",
       "      <th>2019-01-01 03:46:50</th>\n",
       "      <td>NaN</td>\n",
       "      <td>NaN</td>\n",
       "      <td>7.57</td>\n",
       "    </tr>\n",
       "    <tr>\n",
       "      <th>2019-01-01 05:23:21</th>\n",
       "      <td>NaN</td>\n",
       "      <td>NaN</td>\n",
       "      <td>10.75</td>\n",
       "    </tr>\n",
       "    <tr>\n",
       "      <th>...</th>\n",
       "      <td>...</td>\n",
       "      <td>...</td>\n",
       "      <td>...</td>\n",
       "    </tr>\n",
       "    <tr>\n",
       "      <th>2019-05-08 04:20:00</th>\n",
       "      <td>NaN</td>\n",
       "      <td>NaN</td>\n",
       "      <td>21.99</td>\n",
       "    </tr>\n",
       "    <tr>\n",
       "      <th>2019-05-08 04:39:49</th>\n",
       "      <td>NaN</td>\n",
       "      <td>NaN</td>\n",
       "      <td>18.45</td>\n",
       "    </tr>\n",
       "    <tr>\n",
       "      <th>2019-05-08 07:29:01</th>\n",
       "      <td>NaN</td>\n",
       "      <td>NaN</td>\n",
       "      <td>18.55</td>\n",
       "    </tr>\n",
       "    <tr>\n",
       "      <th>2019-05-08 11:38:35</th>\n",
       "      <td>NaN</td>\n",
       "      <td>NaN</td>\n",
       "      <td>19.77</td>\n",
       "    </tr>\n",
       "    <tr>\n",
       "      <th>2019-05-08 13:10:18</th>\n",
       "      <td>NaN</td>\n",
       "      <td>NaN</td>\n",
       "      <td>18.04</td>\n",
       "    </tr>\n",
       "  </tbody>\n",
       "</table>\n",
       "<p>2375 rows × 3 columns</p>\n",
       "</div>"
      ],
      "text/plain": [
       "type                 Rural  Suburban  Urban\n",
       "date                                       \n",
       "2019-01-01 00:08:16    NaN       NaN  37.91\n",
       "2019-01-01 00:46:46    NaN     47.74    NaN\n",
       "2019-01-01 02:07:24    NaN     24.07    NaN\n",
       "2019-01-01 03:46:50    NaN       NaN   7.57\n",
       "2019-01-01 05:23:21    NaN       NaN  10.75\n",
       "...                    ...       ...    ...\n",
       "2019-05-08 04:20:00    NaN       NaN  21.99\n",
       "2019-05-08 04:39:49    NaN       NaN  18.45\n",
       "2019-05-08 07:29:01    NaN       NaN  18.55\n",
       "2019-05-08 11:38:35    NaN       NaN  19.77\n",
       "2019-05-08 13:10:18    NaN       NaN  18.04\n",
       "\n",
       "[2375 rows x 3 columns]"
      ]
     },
<<<<<<< HEAD
     "execution_count": 15,
=======
     "execution_count": 13,
>>>>>>> 3faded07f982668f10f3664c69c7dc1bf851e3e3
     "metadata": {},
     "output_type": "execute_result"
    }
   ],
   "source": [
    "# 11. Create a pivot table with the 'date' as the index, the columns ='type', and values='fare' \n",
    "# to get the total fares for each type of city by the date. \n",
    "total_fares_pivot = total_fares_type_date_df.pivot(index='date', columns='type', values='fare')\n",
    "total_fares_pivot"
   ]
  },
  {
   "cell_type": "code",
   "execution_count": null,
   "metadata": {},
   "outputs": [],
   "source": []
  },
  {
   "cell_type": "code",
<<<<<<< HEAD
   "execution_count": 16,
=======
   "execution_count": 52,
>>>>>>> 3faded07f982668f10f3664c69c7dc1bf851e3e3
   "metadata": {},
   "outputs": [
    {
     "data": {
      "text/html": [
       "<div>\n",
       "<style scoped>\n",
       "    .dataframe tbody tr th:only-of-type {\n",
       "        vertical-align: middle;\n",
       "    }\n",
       "\n",
       "    .dataframe tbody tr th {\n",
       "        vertical-align: top;\n",
       "    }\n",
       "\n",
       "    .dataframe thead th {\n",
       "        text-align: right;\n",
       "    }\n",
       "</style>\n",
       "<table border=\"1\" class=\"dataframe\">\n",
       "  <thead>\n",
       "    <tr style=\"text-align: right;\">\n",
       "      <th>type</th>\n",
       "      <th>Rural</th>\n",
       "      <th>Suburban</th>\n",
       "      <th>Urban</th>\n",
       "    </tr>\n",
       "    <tr>\n",
       "      <th>date</th>\n",
       "      <th></th>\n",
       "      <th></th>\n",
       "      <th></th>\n",
       "    </tr>\n",
       "  </thead>\n",
       "  <tbody>\n",
       "    <tr>\n",
       "      <th>2019-01-01 00:08:16</th>\n",
       "      <td>NaN</td>\n",
       "      <td>NaN</td>\n",
       "      <td>37.91</td>\n",
       "    </tr>\n",
       "    <tr>\n",
       "      <th>2019-01-01 00:46:46</th>\n",
       "      <td>NaN</td>\n",
       "      <td>47.74</td>\n",
       "      <td>NaN</td>\n",
       "    </tr>\n",
       "    <tr>\n",
       "      <th>2019-01-01 02:07:24</th>\n",
       "      <td>NaN</td>\n",
       "      <td>24.07</td>\n",
       "      <td>NaN</td>\n",
       "    </tr>\n",
       "    <tr>\n",
       "      <th>2019-01-01 03:46:50</th>\n",
       "      <td>NaN</td>\n",
       "      <td>NaN</td>\n",
       "      <td>7.57</td>\n",
       "    </tr>\n",
       "    <tr>\n",
       "      <th>2019-01-01 05:23:21</th>\n",
       "      <td>NaN</td>\n",
       "      <td>NaN</td>\n",
       "      <td>10.75</td>\n",
       "    </tr>\n",
       "    <tr>\n",
       "      <th>...</th>\n",
       "      <td>...</td>\n",
       "      <td>...</td>\n",
       "      <td>...</td>\n",
       "    </tr>\n",
       "    <tr>\n",
<<<<<<< HEAD
       "      <th>2019-04-27 17:58:27</th>\n",
       "      <td>14.01</td>\n",
       "      <td>NaN</td>\n",
       "      <td>NaN</td>\n",
       "    </tr>\n",
       "    <tr>\n",
       "      <th>2019-04-27 19:45:48</th>\n",
       "      <td>NaN</td>\n",
       "      <td>28.84</td>\n",
       "      <td>NaN</td>\n",
       "    </tr>\n",
       "    <tr>\n",
       "      <th>2019-04-27 20:41:36</th>\n",
       "      <td>NaN</td>\n",
       "      <td>NaN</td>\n",
       "      <td>8.28</td>\n",
       "    </tr>\n",
       "    <tr>\n",
       "      <th>2019-04-27 23:26:03</th>\n",
       "      <td>NaN</td>\n",
       "      <td>NaN</td>\n",
       "      <td>19.06</td>\n",
       "    </tr>\n",
       "    <tr>\n",
       "      <th>2019-04-27 23:52:44</th>\n",
       "      <td>NaN</td>\n",
       "      <td>45.98</td>\n",
=======
       "      <th>2019-04-28 14:28:36</th>\n",
       "      <td>NaN</td>\n",
       "      <td>NaN</td>\n",
       "      <td>11.46</td>\n",
       "    </tr>\n",
       "    <tr>\n",
       "      <th>2019-04-28 16:29:16</th>\n",
       "      <td>NaN</td>\n",
       "      <td>NaN</td>\n",
       "      <td>36.42</td>\n",
       "    </tr>\n",
       "    <tr>\n",
       "      <th>2019-04-28 17:26:52</th>\n",
       "      <td>NaN</td>\n",
       "      <td>NaN</td>\n",
       "      <td>31.43</td>\n",
       "    </tr>\n",
       "    <tr>\n",
       "      <th>2019-04-28 17:38:09</th>\n",
       "      <td>NaN</td>\n",
       "      <td>34.87</td>\n",
       "      <td>NaN</td>\n",
       "    </tr>\n",
       "    <tr>\n",
       "      <th>2019-04-28 19:35:03</th>\n",
       "      <td>NaN</td>\n",
       "      <td>16.96</td>\n",
>>>>>>> 3faded07f982668f10f3664c69c7dc1bf851e3e3
       "      <td>NaN</td>\n",
       "    </tr>\n",
       "  </tbody>\n",
       "</table>\n",
<<<<<<< HEAD
       "<p>2177 rows × 3 columns</p>\n",
=======
       "<p>2196 rows × 3 columns</p>\n",
>>>>>>> 3faded07f982668f10f3664c69c7dc1bf851e3e3
       "</div>"
      ],
      "text/plain": [
       "type                 Rural  Suburban  Urban\n",
       "date                                       \n",
       "2019-01-01 00:08:16    NaN       NaN  37.91\n",
       "2019-01-01 00:46:46    NaN     47.74    NaN\n",
       "2019-01-01 02:07:24    NaN     24.07    NaN\n",
       "2019-01-01 03:46:50    NaN       NaN   7.57\n",
       "2019-01-01 05:23:21    NaN       NaN  10.75\n",
       "...                    ...       ...    ...\n",
<<<<<<< HEAD
       "2019-04-27 17:58:27  14.01       NaN    NaN\n",
       "2019-04-27 19:45:48    NaN     28.84    NaN\n",
       "2019-04-27 20:41:36    NaN       NaN   8.28\n",
       "2019-04-27 23:26:03    NaN       NaN  19.06\n",
       "2019-04-27 23:52:44    NaN     45.98    NaN\n",
       "\n",
       "[2177 rows x 3 columns]"
      ]
     },
     "execution_count": 16,
=======
       "2019-04-28 14:28:36    NaN       NaN  11.46\n",
       "2019-04-28 16:29:16    NaN       NaN  36.42\n",
       "2019-04-28 17:26:52    NaN       NaN  31.43\n",
       "2019-04-28 17:38:09    NaN     34.87    NaN\n",
       "2019-04-28 19:35:03    NaN     16.96    NaN\n",
       "\n",
       "[2196 rows x 3 columns]"
      ]
     },
     "execution_count": 52,
>>>>>>> 3faded07f982668f10f3664c69c7dc1bf851e3e3
     "metadata": {},
     "output_type": "execute_result"
    }
   ],
   "source": [
    "# 12. Create a new DataFrame from the pivot table DataFrame using loc on the given dates, '2018-01-01':'2018-04-29'.\n",
    "loc_df = total_fares_pivot.loc['2019-01-01':'2019-04-28',:]\n",
    "loc_df"
   ]
  },
  {
   "cell_type": "code",
<<<<<<< HEAD
   "execution_count": 17,
=======
   "execution_count": 53,
>>>>>>> 3faded07f982668f10f3664c69c7dc1bf851e3e3
   "metadata": {},
   "outputs": [],
   "source": [
    "# 13. Set the \"date\" index to datetime datatype. This is necessary to use the resample() method in Step 8.\n",
    "loc_df.index = pd.to_datetime(loc_df.index)"
   ]
  },
  {
   "cell_type": "code",
<<<<<<< HEAD
   "execution_count": 18,
=======
   "execution_count": 54,
>>>>>>> 3faded07f982668f10f3664c69c7dc1bf851e3e3
   "metadata": {},
   "outputs": [
    {
     "name": "stdout",
     "output_type": "stream",
     "text": [
      "<class 'pandas.core.frame.DataFrame'>\n",
<<<<<<< HEAD
      "DatetimeIndex: 2177 entries, 2019-01-01 00:08:16 to 2019-04-27 23:52:44\n",
=======
      "DatetimeIndex: 2196 entries, 2019-01-01 00:08:16 to 2019-04-28 19:35:03\n",
>>>>>>> 3faded07f982668f10f3664c69c7dc1bf851e3e3
      "Data columns (total 3 columns):\n",
      " #   Column    Non-Null Count  Dtype  \n",
      "---  ------    --------------  -----  \n",
      " 0   Rural     114 non-null    float64\n",
<<<<<<< HEAD
      " 1   Suburban  567 non-null    float64\n",
      " 2   Urban     1496 non-null   float64\n",
      "dtypes: float64(3)\n",
      "memory usage: 68.0 KB\n"
=======
      " 1   Suburban  573 non-null    float64\n",
      " 2   Urban     1509 non-null   float64\n",
      "dtypes: float64(3)\n",
      "memory usage: 68.6 KB\n"
>>>>>>> 3faded07f982668f10f3664c69c7dc1bf851e3e3
     ]
    }
   ],
   "source": [
    "# 14. Check that the datatype for the index is datetime using df.info()\n",
    "loc_df.info()"
   ]
  },
  {
   "cell_type": "code",
<<<<<<< HEAD
   "execution_count": 19,
=======
   "execution_count": 55,
>>>>>>> 3faded07f982668f10f3664c69c7dc1bf851e3e3
   "metadata": {},
   "outputs": [
    {
     "data": {
      "text/html": [
       "<div>\n",
       "<style scoped>\n",
       "    .dataframe tbody tr th:only-of-type {\n",
       "        vertical-align: middle;\n",
       "    }\n",
       "\n",
       "    .dataframe tbody tr th {\n",
       "        vertical-align: top;\n",
       "    }\n",
       "\n",
       "    .dataframe thead th {\n",
       "        text-align: right;\n",
       "    }\n",
       "</style>\n",
       "<table border=\"1\" class=\"dataframe\">\n",
       "  <thead>\n",
       "    <tr style=\"text-align: right;\">\n",
       "      <th>type</th>\n",
       "      <th>Rural</th>\n",
       "      <th>Suburban</th>\n",
       "      <th>Urban</th>\n",
       "    </tr>\n",
       "    <tr>\n",
       "      <th>date</th>\n",
       "      <th></th>\n",
       "      <th></th>\n",
       "      <th></th>\n",
       "    </tr>\n",
       "  </thead>\n",
       "  <tbody>\n",
       "    <tr>\n",
       "      <th>2019-01-06</th>\n",
       "      <td>187.92</td>\n",
       "      <td>721.60</td>\n",
       "      <td>1661.68</td>\n",
       "    </tr>\n",
       "    <tr>\n",
       "      <th>2019-01-13</th>\n",
       "      <td>67.65</td>\n",
       "      <td>1105.13</td>\n",
       "      <td>2050.43</td>\n",
       "    </tr>\n",
       "    <tr>\n",
       "      <th>2019-01-20</th>\n",
       "      <td>306.00</td>\n",
       "      <td>1218.20</td>\n",
       "      <td>1939.02</td>\n",
       "    </tr>\n",
       "    <tr>\n",
       "      <th>2019-01-27</th>\n",
       "      <td>179.69</td>\n",
       "      <td>1203.28</td>\n",
       "      <td>2129.51</td>\n",
       "    </tr>\n",
       "    <tr>\n",
       "      <th>2019-02-03</th>\n",
       "      <td>333.08</td>\n",
       "      <td>1042.79</td>\n",
       "      <td>2086.94</td>\n",
       "    </tr>\n",
       "    <tr>\n",
       "      <th>2019-02-10</th>\n",
       "      <td>115.80</td>\n",
       "      <td>974.34</td>\n",
       "      <td>2162.64</td>\n",
       "    </tr>\n",
       "    <tr>\n",
       "      <th>2019-02-17</th>\n",
       "      <td>95.82</td>\n",
       "      <td>1045.50</td>\n",
       "      <td>2235.07</td>\n",
       "    </tr>\n",
       "    <tr>\n",
       "      <th>2019-02-24</th>\n",
       "      <td>419.06</td>\n",
       "      <td>1412.74</td>\n",
       "      <td>2466.29</td>\n",
       "    </tr>\n",
       "    <tr>\n",
       "      <th>2019-03-03</th>\n",
       "      <td>175.14</td>\n",
       "      <td>858.46</td>\n",
       "      <td>2218.20</td>\n",
       "    </tr>\n",
       "    <tr>\n",
       "      <th>2019-03-10</th>\n",
       "      <td>303.94</td>\n",
       "      <td>925.27</td>\n",
       "      <td>2470.93</td>\n",
       "    </tr>\n",
       "    <tr>\n",
       "      <th>2019-03-17</th>\n",
       "      <td>163.39</td>\n",
       "      <td>906.20</td>\n",
       "      <td>2044.42</td>\n",
       "    </tr>\n",
       "    <tr>\n",
       "      <th>2019-03-24</th>\n",
       "      <td>189.76</td>\n",
       "      <td>1122.20</td>\n",
       "      <td>2368.37</td>\n",
       "    </tr>\n",
       "    <tr>\n",
       "      <th>2019-03-31</th>\n",
       "      <td>199.42</td>\n",
       "      <td>1045.06</td>\n",
       "      <td>1942.77</td>\n",
       "    </tr>\n",
       "    <tr>\n",
       "      <th>2019-04-07</th>\n",
       "      <td>501.24</td>\n",
       "      <td>1010.73</td>\n",
       "      <td>2356.70</td>\n",
       "    </tr>\n",
       "    <tr>\n",
       "      <th>2019-04-14</th>\n",
       "      <td>269.79</td>\n",
       "      <td>784.82</td>\n",
       "      <td>2390.72</td>\n",
       "    </tr>\n",
       "    <tr>\n",
       "      <th>2019-04-21</th>\n",
       "      <td>214.14</td>\n",
       "      <td>1149.27</td>\n",
       "      <td>2303.80</td>\n",
       "    </tr>\n",
       "    <tr>\n",
       "      <th>2019-04-28</th>\n",
       "      <td>191.85</td>\n",
<<<<<<< HEAD
       "      <td>1169.04</td>\n",
       "      <td>1909.51</td>\n",
=======
       "      <td>1357.75</td>\n",
       "      <td>2238.29</td>\n",
>>>>>>> 3faded07f982668f10f3664c69c7dc1bf851e3e3
       "    </tr>\n",
       "  </tbody>\n",
       "</table>\n",
       "</div>"
      ],
      "text/plain": [
       "type         Rural  Suburban    Urban\n",
       "date                                 \n",
       "2019-01-06  187.92    721.60  1661.68\n",
       "2019-01-13   67.65   1105.13  2050.43\n",
       "2019-01-20  306.00   1218.20  1939.02\n",
       "2019-01-27  179.69   1203.28  2129.51\n",
       "2019-02-03  333.08   1042.79  2086.94\n",
       "2019-02-10  115.80    974.34  2162.64\n",
       "2019-02-17   95.82   1045.50  2235.07\n",
       "2019-02-24  419.06   1412.74  2466.29\n",
       "2019-03-03  175.14    858.46  2218.20\n",
       "2019-03-10  303.94    925.27  2470.93\n",
       "2019-03-17  163.39    906.20  2044.42\n",
       "2019-03-24  189.76   1122.20  2368.37\n",
       "2019-03-31  199.42   1045.06  1942.77\n",
       "2019-04-07  501.24   1010.73  2356.70\n",
       "2019-04-14  269.79    784.82  2390.72\n",
       "2019-04-21  214.14   1149.27  2303.80\n",
<<<<<<< HEAD
       "2019-04-28  191.85   1169.04  1909.51"
      ]
     },
     "execution_count": 19,
=======
       "2019-04-28  191.85   1357.75  2238.29"
      ]
     },
     "execution_count": 55,
>>>>>>> 3faded07f982668f10f3664c69c7dc1bf851e3e3
     "metadata": {},
     "output_type": "execute_result"
    }
   ],
   "source": [
    "# 15. Create a new DataFrame using the \"resample()\" function by week 'W' and get the sum of the fares for each week.\n",
    "type_sum_fares_week = loc_df.resample(\"W\").sum()\n",
    "type_sum_fares_week"
   ]
  },
  {
   "cell_type": "code",
<<<<<<< HEAD
   "execution_count": 21,
   "metadata": {},
   "outputs": [
    {
     "data": {
      "image/png": "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\n",
      "text/plain": [
       "<Figure size 1440x576 with 1 Axes>"
=======
   "execution_count": 59,
   "metadata": {},
   "outputs": [
    {
     "ename": "TypeError",
     "evalue": "__init__() got an unexpected keyword argument 'values'",
     "output_type": "error",
     "traceback": [
      "\u001b[1;31m---------------------------------------------------------------------------\u001b[0m",
      "\u001b[1;31mTypeError\u001b[0m                                 Traceback (most recent call last)",
      "\u001b[1;32m<ipython-input-59-d8f34d93eec8>\u001b[0m in \u001b[0;36m<module>\u001b[1;34m\u001b[0m\n\u001b[0;32m     10\u001b[0m \u001b[0mplt\u001b[0m\u001b[1;33m.\u001b[0m\u001b[0mtitle\u001b[0m\u001b[1;33m(\u001b[0m\u001b[1;34m\"Total Fare by City Type\"\u001b[0m\u001b[1;33m,\u001b[0m \u001b[0mfontsize\u001b[0m\u001b[1;33m=\u001b[0m\u001b[1;36m20\u001b[0m\u001b[1;33m)\u001b[0m\u001b[1;33m\u001b[0m\u001b[1;33m\u001b[0m\u001b[0m\n\u001b[0;32m     11\u001b[0m \u001b[0mplt\u001b[0m\u001b[1;33m.\u001b[0m\u001b[0mgrid\u001b[0m\u001b[1;33m(\u001b[0m\u001b[1;32mTrue\u001b[0m\u001b[1;33m)\u001b[0m\u001b[1;33m\u001b[0m\u001b[1;33m\u001b[0m\u001b[0m\n\u001b[1;32m---> 12\u001b[1;33m \u001b[0mplt\u001b[0m\u001b[1;33m.\u001b[0m\u001b[0mlegend\u001b[0m\u001b[1;33m(\u001b[0m\u001b[0mtitle\u001b[0m\u001b[1;33m=\u001b[0m\u001b[1;34m\"City Type\"\u001b[0m\u001b[1;33m,\u001b[0m \u001b[0mloc\u001b[0m\u001b[1;33m=\u001b[0m\u001b[1;34m\"center\"\u001b[0m\u001b[1;33m,\u001b[0m \u001b[0mfontsize\u001b[0m\u001b[1;33m=\u001b[0m\u001b[1;36m10\u001b[0m\u001b[1;33m,\u001b[0m \u001b[0mvalues\u001b[0m\u001b[1;33m=\u001b[0m\u001b[1;34m\"Urban\"\u001b[0m\u001b[1;33m)\u001b[0m\u001b[1;33m\u001b[0m\u001b[1;33m\u001b[0m\u001b[0m\n\u001b[0m\u001b[0;32m     13\u001b[0m \u001b[0mplt\u001b[0m\u001b[1;33m.\u001b[0m\u001b[0mfigure\u001b[0m\u001b[1;33m(\u001b[0m\u001b[0mfigsize\u001b[0m\u001b[1;33m=\u001b[0m\u001b[1;33m(\u001b[0m\u001b[1;36m12\u001b[0m\u001b[1;33m,\u001b[0m\u001b[1;36m8\u001b[0m\u001b[1;33m)\u001b[0m\u001b[1;33m)\u001b[0m\u001b[1;33m\u001b[0m\u001b[1;33m\u001b[0m\u001b[0m\n\u001b[0;32m     14\u001b[0m \u001b[0mplt\u001b[0m\u001b[1;33m.\u001b[0m\u001b[0msavefig\u001b[0m\u001b[1;33m(\u001b[0m\u001b[1;34m\"analysis/PyBer_fare_summary.png\"\u001b[0m\u001b[1;33m)\u001b[0m\u001b[1;33m\u001b[0m\u001b[1;33m\u001b[0m\u001b[0m\n",
      "\u001b[1;32m~\\anaconda3\\envs\\PythonData\\lib\\site-packages\\matplotlib\\pyplot.py\u001b[0m in \u001b[0;36mlegend\u001b[1;34m(*args, **kwargs)\u001b[0m\n\u001b[0;32m   2657\u001b[0m \u001b[1;33m@\u001b[0m\u001b[0mdocstring\u001b[0m\u001b[1;33m.\u001b[0m\u001b[0mcopy\u001b[0m\u001b[1;33m(\u001b[0m\u001b[0mAxes\u001b[0m\u001b[1;33m.\u001b[0m\u001b[0mlegend\u001b[0m\u001b[1;33m)\u001b[0m\u001b[1;33m\u001b[0m\u001b[1;33m\u001b[0m\u001b[0m\n\u001b[0;32m   2658\u001b[0m \u001b[1;32mdef\u001b[0m \u001b[0mlegend\u001b[0m\u001b[1;33m(\u001b[0m\u001b[1;33m*\u001b[0m\u001b[0margs\u001b[0m\u001b[1;33m,\u001b[0m \u001b[1;33m**\u001b[0m\u001b[0mkwargs\u001b[0m\u001b[1;33m)\u001b[0m\u001b[1;33m:\u001b[0m\u001b[1;33m\u001b[0m\u001b[1;33m\u001b[0m\u001b[0m\n\u001b[1;32m-> 2659\u001b[1;33m     \u001b[1;32mreturn\u001b[0m \u001b[0mgca\u001b[0m\u001b[1;33m(\u001b[0m\u001b[1;33m)\u001b[0m\u001b[1;33m.\u001b[0m\u001b[0mlegend\u001b[0m\u001b[1;33m(\u001b[0m\u001b[1;33m*\u001b[0m\u001b[0margs\u001b[0m\u001b[1;33m,\u001b[0m \u001b[1;33m**\u001b[0m\u001b[0mkwargs\u001b[0m\u001b[1;33m)\u001b[0m\u001b[1;33m\u001b[0m\u001b[1;33m\u001b[0m\u001b[0m\n\u001b[0m\u001b[0;32m   2660\u001b[0m \u001b[1;33m\u001b[0m\u001b[0m\n\u001b[0;32m   2661\u001b[0m \u001b[1;33m\u001b[0m\u001b[0m\n",
      "\u001b[1;32m~\\anaconda3\\envs\\PythonData\\lib\\site-packages\\matplotlib\\axes\\_axes.py\u001b[0m in \u001b[0;36mlegend\u001b[1;34m(self, *args, **kwargs)\u001b[0m\n\u001b[0;32m    399\u001b[0m         \u001b[1;32mif\u001b[0m \u001b[0mlen\u001b[0m\u001b[1;33m(\u001b[0m\u001b[0mextra_args\u001b[0m\u001b[1;33m)\u001b[0m\u001b[1;33m:\u001b[0m\u001b[1;33m\u001b[0m\u001b[1;33m\u001b[0m\u001b[0m\n\u001b[0;32m    400\u001b[0m             \u001b[1;32mraise\u001b[0m \u001b[0mTypeError\u001b[0m\u001b[1;33m(\u001b[0m\u001b[1;34m'legend only accepts two non-keyword arguments'\u001b[0m\u001b[1;33m)\u001b[0m\u001b[1;33m\u001b[0m\u001b[1;33m\u001b[0m\u001b[0m\n\u001b[1;32m--> 401\u001b[1;33m         \u001b[0mself\u001b[0m\u001b[1;33m.\u001b[0m\u001b[0mlegend_\u001b[0m \u001b[1;33m=\u001b[0m \u001b[0mmlegend\u001b[0m\u001b[1;33m.\u001b[0m\u001b[0mLegend\u001b[0m\u001b[1;33m(\u001b[0m\u001b[0mself\u001b[0m\u001b[1;33m,\u001b[0m \u001b[0mhandles\u001b[0m\u001b[1;33m,\u001b[0m \u001b[0mlabels\u001b[0m\u001b[1;33m,\u001b[0m \u001b[1;33m**\u001b[0m\u001b[0mkwargs\u001b[0m\u001b[1;33m)\u001b[0m\u001b[1;33m\u001b[0m\u001b[1;33m\u001b[0m\u001b[0m\n\u001b[0m\u001b[0;32m    402\u001b[0m         \u001b[0mself\u001b[0m\u001b[1;33m.\u001b[0m\u001b[0mlegend_\u001b[0m\u001b[1;33m.\u001b[0m\u001b[0m_remove_method\u001b[0m \u001b[1;33m=\u001b[0m \u001b[0mself\u001b[0m\u001b[1;33m.\u001b[0m\u001b[0m_remove_legend\u001b[0m\u001b[1;33m\u001b[0m\u001b[1;33m\u001b[0m\u001b[0m\n\u001b[0;32m    403\u001b[0m         \u001b[1;32mreturn\u001b[0m \u001b[0mself\u001b[0m\u001b[1;33m.\u001b[0m\u001b[0mlegend_\u001b[0m\u001b[1;33m\u001b[0m\u001b[1;33m\u001b[0m\u001b[0m\n",
      "\u001b[1;31mTypeError\u001b[0m: __init__() got an unexpected keyword argument 'values'"
     ]
    },
    {
     "data": {
      "image/png": "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\n",
      "text/plain": [
       "<Figure size 432x288 with 1 Axes>"
>>>>>>> 3faded07f982668f10f3664c69c7dc1bf851e3e3
      ]
     },
     "metadata": {},
     "output_type": "display_data"
    }
   ],
   "source": [
    "# 16. Using the object-oriented interface method, plot the resample DataFrame using the df.plot() function. \n",
    "\n",
    "# Import the style from Matplotlib.\n",
    "from matplotlib import style\n",
    "# Use the graph style fivethirtyeight.\n",
    "style.use('fivethirtyeight')\n",
<<<<<<< HEAD
    "from datetime import datetime\n",
    "\n",
    "ax = type_sum_fares_week.plot(figsize=(20, 8))\n",
    "\n",
    "ax.set_title(\"Total Fares by City Type\")\n",
    "ax.set_ylabel(\"Fare($USD)\")\n",
    "ax.set_xlabel(\"\")\n",
    "ax.legend(type_sum_fares_week, fontsize=\"12\", loc=\"center\", title=\"type\")\n",
=======
    "type_sum_fares_week.plot()\n",
    "plt.xlabel(\"\")\n",
    "plt.ylabel(\"Fare ($USD)\", fontsize=15)\n",
    "plt.title(\"Total Fare by City Type\", fontsize=20)\n",
    "plt.grid(True)\n",
    "plt.legend(title=\"City Type\", loc=\"center\", fontsize=10, values=\"Urban\")\n",
    "plt.figure(figsize=(12,8))\n",
>>>>>>> 3faded07f982668f10f3664c69c7dc1bf851e3e3
    "plt.savefig(\"analysis/PyBer_fare_summary.png\")\n",
    "plt.show()"
   ]
  },
  {
   "cell_type": "code",
   "execution_count": null,
   "metadata": {},
   "outputs": [],
   "source": []
<<<<<<< HEAD
  },
  {
   "cell_type": "code",
   "execution_count": null,
   "metadata": {},
   "outputs": [],
   "source": []
=======
>>>>>>> 3faded07f982668f10f3664c69c7dc1bf851e3e3
  }
 ],
 "metadata": {
  "anaconda-cloud": {},
  "kernelspec": {
   "display_name": "PythonData",
   "language": "python",
   "name": "pythondata"
  },
  "language_info": {
   "codemirror_mode": {
    "name": "ipython",
    "version": 3
   },
   "file_extension": ".py",
   "mimetype": "text/x-python",
   "name": "python",
   "nbconvert_exporter": "python",
   "pygments_lexer": "ipython3",
   "version": "3.7.7"
  }
 },
 "nbformat": 4,
 "nbformat_minor": 2
}
